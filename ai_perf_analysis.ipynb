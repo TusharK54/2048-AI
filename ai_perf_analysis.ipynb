{
 "cells": [
  {
   "cell_type": "markdown",
   "metadata": {},
   "source": [
    "# Search Tree Performance Analysis\n",
    "Because why not"
   ]
  },
  {
   "cell_type": "code",
   "execution_count": null,
   "metadata": {},
   "outputs": [],
   "source": [
    "import time\n",
    "import pandas as pd\n",
    "import numpy as np\n",
    "import matplotlib.pyplot as plt\n",
    "import seaborn as sn\n",
    "\n",
    "from game import GameState\n",
    "from tree_ai import GameTree"
   ]
  },
  {
   "cell_type": "markdown",
   "metadata": {},
   "source": [
    "## Performance Data Collection\n",
    "This might take some time"
   ]
  },
  {
   "cell_type": "code",
   "execution_count": null,
   "metadata": {},
   "outputs": [],
   "source": [
    "time_freq = 20 # defines the time granularity\n",
    "\n",
    "trials = 20\n",
    "timeout = 1000 # After a depth takes this many seconds on average to compute, data collection will stop\n",
    "\n",
    "columns = ['depth', 'leafs', 'time', 'rate']\n",
    "\n",
    "output_file = 'ai_perf.csv'"
   ]
  },
  {
   "cell_type": "code",
   "execution_count": null,
   "metadata": {},
   "outputs": [],
   "source": [
    "def run_trial(depth) -> np.ndarray:\n",
    "    t = GameTree(GameState())\n",
    "    \n",
    "    start = time.time_ns()\n",
    "    while t.get_depth() <= depth: \n",
    "        time.sleep(1/time_freq)\n",
    "    end = time.time_ns()\n",
    "    \n",
    "    t.kill_thread()\n",
    "    \n",
    "    depth = t.get_depth()-1 # minus 1 because this returns max depth, and we want most complete depth\n",
    "    leafs = t.get_leaves().size\n",
    "    sec   = round((end-start) * 10 ** -9, 3)\n",
    "    rate  = leafs/sec\n",
    "    \n",
    "    return np.array([depth, leafs, sec, rate])"
   ]
  },
  {
   "cell_type": "code",
   "execution_count": null,
   "metadata": {
    "scrolled": true
   },
   "outputs": [],
   "source": [
    "# Setup output file\n",
    "with open(output_file, mode='w') as f:\n",
    "    f.write(','.join(columns)+'\\n')\n",
    "\n",
    "# Run each trial and immediately write result to csv\n",
    "depth, avg_timeout = 2, 0\n",
    "while avg_timeout < timeout:\n",
    "    avg_timeout = 0\n",
    "    for trial in range(trials):\n",
    "        print(f'Running trial {trial+1}/{trials} @ target depth {depth}', end=' ... ')\n",
    "        \n",
    "        row = [run_trial(depth)]\n",
    "        df = pd.DataFrame([run_trial(depth)], columns=columns)\n",
    "        df.to_csv(output_file, mode='a', header=False, index=False)\n",
    "        \n",
    "        trial_time = df['time'][0]\n",
    "        avg_timeout += trial_time\n",
    "        print(f'finished in {trial_time} s')\n",
    "        \n",
    "    avg_timeout /= trials\n",
    "    depth += 1"
   ]
  },
  {
   "cell_type": "code",
   "execution_count": null,
   "metadata": {},
   "outputs": [],
   "source": [
    "df = pd.DataFrame(np.array(data), columns=columns)\n",
    "df.to_csv(output_file, mode='a')\n",
    "\n",
    "df.groupby('depth').mean()"
   ]
  },
  {
   "cell_type": "code",
   "execution_count": null,
   "metadata": {},
   "outputs": [],
   "source": [
    "fig, ax = plt.subplots(figsize=(15,8))\n",
    "sn.boxplot(x=df['depth'], y=df['leafs'], ax=ax)"
   ]
  },
  {
   "cell_type": "code",
   "execution_count": null,
   "metadata": {},
   "outputs": [],
   "source": [
    "fig, ax = plt.subplots(figsize=(15,8))\n",
    "sn.boxplot(x=df['depth'], y=df['time'], ax=ax)"
   ]
  },
  {
   "cell_type": "code",
   "execution_count": null,
   "metadata": {},
   "outputs": [],
   "source": [
    "fig, ax = plt.subplots(figsize=(15,8))\n",
    "sn.boxplot(x=df['depth'], y=df['rate'], ax=ax)"
   ]
  },
  {
   "cell_type": "code",
   "execution_count": null,
   "metadata": {},
   "outputs": [],
   "source": [
    "fig, ax = plt.subplots(figsize=(15,8))\n",
    "sn.scatterplot(x=df['leafs'], y=df['time'], hue='depth', palette=\"Set1\", data=df, ax=ax)"
   ]
  },
  {
   "cell_type": "code",
   "execution_count": null,
   "metadata": {},
   "outputs": [],
   "source": [
    "fig, ax = plt.subplots(figsize=(15,8))\n",
    "sn.regplot(x=df['leafs'], y=df['time'], data=df, ax=ax)"
   ]
  },
  {
   "cell_type": "code",
   "execution_count": null,
   "metadata": {},
   "outputs": [],
   "source": []
  }
 ],
 "metadata": {
  "kernelspec": {
   "display_name": "Python 3.7.2 64-bit",
   "language": "python",
   "name": "python37264bitb741bd9f91e74575848f4d989c286a1f"
  },
  "language_info": {
   "codemirror_mode": {
    "name": "ipython",
    "version": 3
   },
   "file_extension": ".py",
   "mimetype": "text/x-python",
   "name": "python",
   "nbconvert_exporter": "python",
   "pygments_lexer": "ipython3",
   "version": "3.7.2"
  }
 },
 "nbformat": 4,
 "nbformat_minor": 4
}
